{
 "cells": [
  {
   "cell_type": "code",
   "execution_count": null,
   "metadata": {},
   "outputs": [],
   "source": [
    "import matplotlib.pyplot as plt\n",
    "import numpy as np\n",
    "\n",
    "# number of data\n",
    "N=4000\n",
    "# size of each sample\n",
    "L=2\n",
    "# box size\n",
    "B=100\n",
    "\n",
    "!mkdir DATA"
   ]
  },
  {
   "cell_type": "code",
   "execution_count": null,
   "metadata": {},
   "outputs": [],
   "source": [
    "%run nonlinear_function.py\n",
    "\n",
    "TYPE=1\n",
    "\n",
    "# random seed for reproducibility\n",
    "np.random.seed(12345)\n",
    "print(np.random.randint(0,10),np.random.randint(0,10),np.random.randint(0,10))\n",
    "\n",
    "x,y = (np.random.random((N,2))-0.5)*B, np.zeros(N)\n",
    "for i in range(N):\n",
    "    # label data according to a nonlinear function \"f\"\n",
    "    y[i] = f(x[i],TYPE)\n",
    "        \n",
    "plt.figure(figsize = (8,8))\n",
    "plt.scatter(x[:,0],x[:,1],c=y)\n",
    "plt.show\n",
    "\n",
    "np.savetxt(filename(\"data\",TYPE),x)\n",
    "np.savetxt(filename(\"labels\",TYPE),y,fmt=\"%d\")"
   ]
  },
  {
   "cell_type": "code",
   "execution_count": null,
   "metadata": {},
   "outputs": [],
   "source": []
  }
 ],
 "metadata": {
  "interpreter": {
   "hash": "dca0ade3e726a953b501b15e8e990130d2b7799f14cfd9f4271676035ebe5511"
  },
  "kernelspec": {
   "display_name": "Python 3.9.7 ('base')",
   "name": "python3"
  },
  "language_info": {
   "codemirror_mode": {
    "name": "ipython",
    "version": 3
   },
   "file_extension": ".py",
   "mimetype": "text/x-python",
   "name": "python",
   "nbconvert_exporter": "python",
   "pygments_lexer": "ipython3",
   "version": "3.9.10"
  }
 },
 "nbformat": 4,
 "nbformat_minor": 2
}
